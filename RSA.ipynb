{
 "cells": [
  {
   "cell_type": "code",
   "execution_count": 102,
   "metadata": {},
   "outputs": [],
   "source": [
    "def generateKeys():\n",
    "    p = int(input())\n",
    "    q = int(input())\n",
    "    n = p * q\n",
    "    print('n is - ' + str(n))\n",
    "    f = ((p - 1) * (q - 1))\n",
    "    print('f is - ' + str(f))\n",
    "    e = int(input())\n",
    "    MMI = lambda A, n,s=1,t=0,N=0: (n < 2 and t%N or MMI(n, A%n, t, s-A//n*t, N or n),-1)[n<1] \n",
    "    d = MMI(e, f)\n",
    "    print('d is - ' + str(d))\n",
    "    print('open key is - ' + str(e) + ', ' + str(n))\n",
    "    print('closed key is - ' + str(d) + ', ' + str(n))\n",
    "    return (e, d, n)"
   ]
  },
  {
   "cell_type": "code",
   "execution_count": 103,
   "metadata": {},
   "outputs": [],
   "source": [
    "def encrypt(t, e, n):\n",
    "    c = pow(t, e, n)\n",
    "    return c"
   ]
  },
  {
   "cell_type": "code",
   "execution_count": 104,
   "metadata": {},
   "outputs": [],
   "source": [
    "def decrypt(t, d, n):\n",
    "    m = pow(t, d, n)\n",
    "    return m"
   ]
  },
  {
   "cell_type": "code",
   "execution_count": 105,
   "metadata": {},
   "outputs": [
    {
     "name": "stdout",
     "output_type": "stream",
     "text": [
      "111111\n"
     ]
    }
   ],
   "source": [
    "text = int(input())"
   ]
  },
  {
   "cell_type": "code",
   "execution_count": 106,
   "metadata": {},
   "outputs": [
    {
     "name": "stdout",
     "output_type": "stream",
     "text": [
      "Generating KEYS...\n"
     ]
    }
   ],
   "source": [
    "print('Generating KEYS...')"
   ]
  },
  {
   "cell_type": "code",
   "execution_count": 107,
   "metadata": {},
   "outputs": [
    {
     "name": "stdout",
     "output_type": "stream",
     "text": [
      "3557\n",
      "2579\n",
      "n is - 9173503\n",
      "f is - 9167368\n",
      "3\n",
      "d is - 6111579\n",
      "open key is - 3, 9173503\n",
      "closed key is - 6111579, 9173503\n"
     ]
    }
   ],
   "source": [
    "e, d, n = generateKeys()"
   ]
  },
  {
   "cell_type": "code",
   "execution_count": 108,
   "metadata": {},
   "outputs": [
    {
     "name": "stdout",
     "output_type": "stream",
     "text": [
      "Encrypted message - 4051753\n"
     ]
    }
   ],
   "source": [
    "encrypted = encrypt(text, e, n)\n",
    "print('Encrypted message - ' + str(encrypted))"
   ]
  },
  {
   "cell_type": "code",
   "execution_count": 109,
   "metadata": {},
   "outputs": [
    {
     "name": "stdout",
     "output_type": "stream",
     "text": [
      "Decrypted message - 111111\n"
     ]
    }
   ],
   "source": [
    "print('Decrypted message - ' + str(decrypt(encrypted, d, n)))"
   ]
  }
 ],
 "metadata": {
  "kernelspec": {
   "display_name": "Python [default]",
   "language": "python",
   "name": "python3"
  },
  "language_info": {
   "codemirror_mode": {
    "name": "ipython",
    "version": 3
   },
   "file_extension": ".py",
   "mimetype": "text/x-python",
   "name": "python",
   "nbconvert_exporter": "python",
   "pygments_lexer": "ipython3",
   "version": "3.6.6"
  }
 },
 "nbformat": 4,
 "nbformat_minor": 2
}
