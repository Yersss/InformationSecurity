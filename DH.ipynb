{
 "cells": [
  {
   "cell_type": "code",
   "execution_count": 14,
   "metadata": {},
   "outputs": [],
   "source": [
    "def primitive_root(modulo):\n",
    "    required_set = set(num for num in range (1, modulo) if gcd(num, modulo) == 1)\n",
    "    for g in range(1, modulo):\n",
    "        actual_set = set(pow(g, powers) % modulo for powers in range (1, modulo))\n",
    "        if required_set == actual_set:\n",
    "            return g"
   ]
  },
  {
   "cell_type": "code",
   "execution_count": 15,
   "metadata": {},
   "outputs": [],
   "source": [
    "def gcd(a,b):\n",
    "    while a != b:\n",
    "        if a > b:\n",
    "            a = a - b\n",
    "        else:\n",
    "            b = b - a\n",
    "    return a"
   ]
  },
  {
   "cell_type": "code",
   "execution_count": 16,
   "metadata": {},
   "outputs": [
    {
     "name": "stdout",
     "output_type": "stream",
     "text": [
      "Enter 1st secret key\n",
      "6\n"
     ]
    }
   ],
   "source": [
    "print('Enter 1st secret key')\n",
    "a = int(input())"
   ]
  },
  {
   "cell_type": "code",
   "execution_count": 17,
   "metadata": {},
   "outputs": [
    {
     "name": "stdout",
     "output_type": "stream",
     "text": [
      "Enter 2nd secret key\n",
      "15\n"
     ]
    }
   ],
   "source": [
    "print('Enter 2nd secret key')\n",
    "b = int(input())"
   ]
  },
  {
   "cell_type": "code",
   "execution_count": 18,
   "metadata": {},
   "outputs": [
    {
     "name": "stdout",
     "output_type": "stream",
     "text": [
      "23\n",
      "g is - 5\n"
     ]
    }
   ],
   "source": [
    "p = int(input())\n",
    "g = primitive_root(p)\n",
    "print('g is - ' + str(g))"
   ]
  },
  {
   "cell_type": "code",
   "execution_count": 19,
   "metadata": {},
   "outputs": [
    {
     "name": "stdout",
     "output_type": "stream",
     "text": [
      "A is - 8\n"
     ]
    }
   ],
   "source": [
    "A = g**a%p\n",
    "print('A is - ' + str(A))"
   ]
  },
  {
   "cell_type": "code",
   "execution_count": 20,
   "metadata": {},
   "outputs": [
    {
     "name": "stdout",
     "output_type": "stream",
     "text": [
      "B is - 19\n"
     ]
    }
   ],
   "source": [
    "B = g**b%p\n",
    "print('B is - ' + str(B))"
   ]
  },
  {
   "cell_type": "code",
   "execution_count": 21,
   "metadata": {},
   "outputs": [
    {
     "name": "stdout",
     "output_type": "stream",
     "text": [
      "K1 is - 2\n",
      "K1 is - 2\n"
     ]
    }
   ],
   "source": [
    "print('K1 is - ' + str(B**a%p))\n",
    "print('K1 is - ' + str(A**b%p))"
   ]
  }
 ],
 "metadata": {
  "kernelspec": {
   "display_name": "Python [default]",
   "language": "python",
   "name": "python3"
  },
  "language_info": {
   "codemirror_mode": {
    "name": "ipython",
    "version": 3
   },
   "file_extension": ".py",
   "mimetype": "text/x-python",
   "name": "python",
   "nbconvert_exporter": "python",
   "pygments_lexer": "ipython3",
   "version": "3.6.6"
  }
 },
 "nbformat": 4,
 "nbformat_minor": 2
}
